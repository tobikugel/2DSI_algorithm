{
 "cells": [
  {
   "cell_type": "markdown",
   "id": "f6a655ff",
   "metadata": {},
   "source": [
    "# 2DSI Map Creator\n",
    "In the following part of this notebook a 2DSI map will be created computationally from a Cr:ZnS laser pulse.\n",
    "Generally, the computation will be done in the frequency domain rather than in the wavelength domain of the electromagnetic fields.\n"
   ]
  },
  {
   "cell_type": "code",
   "execution_count": 11,
   "id": "d7f25e6d",
   "metadata": {},
   "outputs": [
    {
     "ename": "ModuleNotFoundError",
     "evalue": "No module named 'scipy'",
     "output_type": "error",
     "traceback": [
      "\u001b[1;31m---------------------------------------------------------------------------\u001b[0m",
      "\u001b[1;31mModuleNotFoundError\u001b[0m                       Traceback (most recent call last)",
      "Input \u001b[1;32mIn [11]\u001b[0m, in \u001b[0;36m<module>\u001b[1;34m\u001b[0m\n\u001b[0;32m      2\u001b[0m \u001b[38;5;28;01mimport\u001b[39;00m \u001b[38;5;21;01mnumpy\u001b[39;00m \u001b[38;5;28;01mas\u001b[39;00m \u001b[38;5;21;01mnp\u001b[39;00m\n\u001b[0;32m      3\u001b[0m \u001b[38;5;28;01mimport\u001b[39;00m \u001b[38;5;21;01mmatplotlib\u001b[39;00m \u001b[38;5;28;01mas\u001b[39;00m \u001b[38;5;21;01mmpl\u001b[39;00m\n\u001b[1;32m----> 4\u001b[0m \u001b[38;5;28;01mfrom\u001b[39;00m \u001b[38;5;21;01mscipy\u001b[39;00m\u001b[38;5;21;01m.\u001b[39;00m\u001b[38;5;21;01minterpolate\u001b[39;00m \u001b[38;5;28;01mimport\u001b[39;00m interp1d\n",
      "\u001b[1;31mModuleNotFoundError\u001b[0m: No module named 'scipy'"
     ]
    }
   ],
   "source": [
    "import matplotlib.pyplot as plt\n",
    "import numpy as np\n",
    "import matplotlib as mpl\n",
    "from scipy.interpolate import interp1d"
   ]
  },
  {
   "cell_type": "markdown",
   "id": "5ca6cd4d",
   "metadata": {},
   "source": [
    "## The Cr:ZnS laser pulse's shape and phase:\n",
    "The Cr:ZnS laser pulse will be centered at $2.3~\\mu m$ and Gaussian-shaped with a temporal FWHM of $35~fs$. The wavelength/frequency axis is defined by the used spectrometers' specifications which has a range from $1.8~\\mu m$ ($166~\\text{THz}$) to $2.7~\\mu m$ ($111~\\text{THz}$) and outputs an array of 900 values inbewteen this range."
   ]
  },
  {
   "cell_type": "code",
   "execution_count": 10,
   "id": "e0ffb870",
   "metadata": {},
   "outputs": [],
   "source": [
    "f_center = 130.6*10**12                                     #Center frequeny at 2.3 micrometer (130.6 THz)\n",
    "f = np.linspace(111*10**12,166*10**12,900)                  #Cr:ZnS laser pulse frequency axis\n",
    "\n",
    "#Pulse's shape\n",
    "t_FWHM = 35                                                 #Intensity FWHM in femtoseconds\n",
    "tau_in = (t_FWHM*10**-15)/np.sqrt(np.log(2))                #t_FWHM with the additional factor which is necessary for Gaussian shaped pulses\n",
    "e_f = np.exp( -tau_in**2/8*(4*np.pi**2)*(f-f_center)**2 )   #E-field envelope of the pulse in the frequency domain\n",
    "i_f = e_f**2                                                #Intensity envelope of the pulse"
   ]
  },
  {
   "cell_type": "markdown",
   "id": "3322d975",
   "metadata": {},
   "source": [
    "The pulses spectral phase was used to be corresponding to the function Ge_phase(thickness). \n",
    "This function calculates the spectral phase upon dispersion through Germanium with a certain thickness $d$.\n",
    "\n",
    "The refractive index data was taken from this database (<a href=\"https://refractiveindex.info/?shelf=main&book=Ge&page=Burnett\">Link</a>)"
   ]
  },
  {
   "cell_type": "code",
   "execution_count": 14,
   "id": "d1ee1ee4",
   "metadata": {},
   "outputs": [],
   "source": [
    "def Ge_phase(d):\n",
    "    #d...thickness CaF2 in m\n",
    "    \n",
    "    c = 2.99792458*10**14                                                                  #Speed of light (unit: um per s)\n",
    "    lamb = np.linspace(1.5,3,10000)                                                        #wavelenghts (unit: um)                               \n",
    "    \n",
    "    \n",
    "    nsq = 1 + (0.4886331*lamb**2)/(lamb**2 - 1.393959) + ...                               #Germanium Sellmeier equation\n",
    "    (14.5142535*lamb**2)/(lamb**2 - 0.1626427) + (0.0091224*lamb**2)/(lamb**2 - 752.19)\n",
    "\n",
    "    n = np.sqrt(np.abs(nsq))                                                               #Refractive index\n",
    "    \n",
    "    omega = 2*np.pi*c/(lamb)                                                               #Frequency axis (unit: rad/s)                                \n",
    "    beta = omega*n/(c*10**-6)                                                              #Beta (unit: rad/m)\n",
    "    \n",
    "    return omega/(2*np.pi), beta*d                                                         #Return of frequency axis (unit: Hz) and the phase\n"
   ]
  },
  {
   "cell_type": "code",
   "execution_count": null,
   "id": "3756aaa4",
   "metadata": {},
   "outputs": [],
   "source": []
  }
 ],
 "metadata": {
  "kernelspec": {
   "display_name": "Python 3 (ipykernel)",
   "language": "python",
   "name": "python3"
  },
  "language_info": {
   "codemirror_mode": {
    "name": "ipython",
    "version": 3
   },
   "file_extension": ".py",
   "mimetype": "text/x-python",
   "name": "python",
   "nbconvert_exporter": "python",
   "pygments_lexer": "ipython3",
   "version": "3.9.10"
  }
 },
 "nbformat": 4,
 "nbformat_minor": 5
}

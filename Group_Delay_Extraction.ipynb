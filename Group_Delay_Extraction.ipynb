{
 "cells": [
  {
   "cell_type": "markdown",
   "id": "1669a7c1",
   "metadata": {},
   "source": [
    "# Group Delay Extraction\n",
    "A 2DSI map contains the information of the laser pulses' spectral phase. This information is directly retrievable, which is a big advantage compared to other methods.\n",
    "Once a 2DSI map is experimentally measured, the phase retrieval algorithm is applied. In this Notebook the 2DSI map's data, which was created computationally in the 2DSI Map Creator Notebook, will be taken for retrieval.\n",
    "\n",
    "The extraction of the Group Delay (GD) is the first step of the phase retrieval algorithm.\n",
    "\n",
    "$$S_{2DSI}(\\omega, \\tau_{CW}) = S(\\omega) + S(\\omega-\\Omega) + \\sqrt{S(\\omega) S(\\omega-\\Omega)} cos(\\Phi_0 + \\color{green}{\\Phi(\\omega)- \\Phi(\\omega - \\Omega)})$$\n",
    "\n",
    "$S_{2DSI}(\\omega, \\tau_{CW})$ is describing the behaviour of it and the relevant information lies within the argument of the cosine.\n",
    "\n",
    "This is because $$GD(\\omega) = \\frac{d\\Phi}{d\\omega} \\approx \\frac{\\color{green}{\\Phi(\\omega)- \\Phi(\\omega - \\Omega)}}{\\Omega}.$$\n",
    "\n",
    "(More on how the phase will be exactly taken from the measured 2DSI map will be covered in the Group Delay Integration Notebook.)"
   ]
  },
  {
   "cell_type": "markdown",
   "id": "190a23b6",
   "metadata": {},
   "source": [
    "## Import of the data:"
   ]
  },
  {
   "cell_type": "code",
   "execution_count": 9,
   "id": "b1923f65",
   "metadata": {},
   "outputs": [],
   "source": [
    "#Import of packages\n",
    "import pandas as pd\n",
    "import matplotlib.pyplot as plt\n",
    "import numpy as np\n",
    "import matplotlib as mpl\n",
    "import sys\n",
    "from scipy.interpolate import interp1d\n",
    "\n",
    "#Import of the data\n",
    "df_pulse = pd.read_csv(\"Data/pulse.csv\", index_col = 0)\n",
    "df_2DSImap = pd.read_csv(\"Data/2DSImap.csv\", index_col = 0)"
   ]
  },
  {
   "cell_type": "code",
   "execution_count": 70,
   "id": "5a16bf70",
   "metadata": {},
   "outputs": [],
   "source": [
    "#Create numpy arrays\n",
    "#Pulse\n",
    "f = df_pulse.loc[:, 'f (Hz)'].to_numpy()           #frequency axis pulse\n",
    "i_f = df_pulse.loc[:, 'spec (norm.)'].to_numpy()   #spectrum (intensity) pulse\n",
    "phase = df_pulse.loc[:, 'phase (rad)'].to_numpy()  #phase of the pulse\n",
    "\n",
    "#2DSI map\n",
    "map_2DSI = df_2DSImap.loc[:, :].to_numpy()         #2DSI map values\n",
    "\n",
    "phi_0_array = df_2DSImap.index.to_numpy()          #y-axis\n",
    "phi_0_array = phi_0_array.astype(float)            #cast elements to float\n",
    "\n",
    "f_2DSI = df_2DSImap.columns.to_numpy()             #x-axis\n",
    "f_2DSI = f_2DSI.astype(float)                      #cast elements to float"
   ]
  },
  {
   "cell_type": "code",
   "execution_count": null,
   "id": "d56d2c08",
   "metadata": {},
   "outputs": [],
   "source": []
  }
 ],
 "metadata": {
  "kernelspec": {
   "display_name": "Python 3 (ipykernel)",
   "language": "python",
   "name": "python3"
  },
  "language_info": {
   "codemirror_mode": {
    "name": "ipython",
    "version": 3
   },
   "file_extension": ".py",
   "mimetype": "text/x-python",
   "name": "python",
   "nbconvert_exporter": "python",
   "pygments_lexer": "ipython3",
   "version": "3.9.10"
  }
 },
 "nbformat": 4,
 "nbformat_minor": 5
}

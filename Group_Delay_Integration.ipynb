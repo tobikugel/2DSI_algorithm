{
 "cells": [
  {
   "cell_type": "markdown",
   "metadata": {},
   "source": [
    "# Group Delay Integration\n",
    "After having the group delay (GD) extracted, the spectral phase can be finally calculated. This can be done by a simple discrete integration.\n",
    "However, there is another more accurate way to reconstruct the spectral phase out of the extracted GD based on the method reported by <a href=\"https://opg.optica.org/josa/abstract.cfm?uri=josa-72-1-156\">Takeda *et. al.*</a>.\n",
    "Taking the fact that actually the finite difference of the spectral phase ($\\color{green}{\\Phi(\\omega)- \\Phi(\\omega - \\Omega)}$) got extracted out ot the 2DSI-map, a recursive formula can be used to calculate the exact spectral phase at a spacing dependent on the shear frequency.\n",
    "\n",
    "### Theory: Recursive Calculation of the Spectral Phase\n",
    "This is possible through transforming the extracted finite difference of the spectral phase: $\\color{green}{\\Delta\\Phi(\\omega) = \\Phi(\\omega)- \\Phi(\\omega - \\Omega)}$ and taking a discrete frequency axis where $\\omega \\rightarrow \\omega_i$, $\\omega + \\Omega \\rightarrow \\omega_{i+1}$ and $\\omega - \\Omega \\rightarrow \\omega_{i-1}$ with $i$ being integers. Furthermore the spectral phase at the center frequency $\\omega_0$ is $\\Phi(\\omega_0) = 0$.\n",
    "\n",
    "\n",
    "\n",
    "\n",
    "<table style=\"width: 80%;\">\n",
    "  <tr>\n",
    "    <td> <center> For $i >$ 0 </center> </td>\n",
    "    <td> <center> For $i <$ 0 </center> </td>\n",
    "  </tr>\n",
    "\n",
    "  <tr>\n",
    "    <td> <center> $\\Phi(\\omega_i) = \\Delta\\Phi(\\omega_i) + \\Phi(\\omega_{i-1})$ </center> </td>\n",
    "    <td> <center> $\\Phi(\\omega_{i-1}) = -\\Delta\\Phi(\\omega_i) + \\Phi(\\omega_i)$ </center> </td>\n",
    "  </tr>\n",
    "\n",
    " \n",
    "  <tr>\n",
    "    <td colspan=\"2\"> <center> Example: </center> </td>\n",
    "  </tr>\n",
    "\n",
    "  <tr>\n",
    "    <td> <center> $\\Phi(\\omega_1) = \\Delta\\Phi(\\omega_1) + \\Phi(\\omega_{0})$ </center> </td>\n",
    "    <td> <center> $\\Phi(\\omega_{-1}) = -\\Delta\\Phi(\\omega_0) + \\Phi(\\omega_0)$ </center> </td>\n",
    "  </tr>\n",
    "     \n",
    "  <tr>\n",
    "    <td> <center> $\\Phi(\\omega_2) = \\Delta\\Phi(\\omega_2) + \\Phi(\\omega_{1})$ </center> </td>\n",
    "    <td> <center> $\\Phi(\\omega_{-2}) = -\\Delta\\Phi(\\omega_{-1}) + \\Phi(\\omega_{-1})$</center> </td>\n",
    "  </tr>\n",
    "  \n",
    "  <tr>\n",
    "    <td> <center> $\\Phi(\\omega_3) = \\Delta\\Phi(\\omega_3) + \\Phi(\\omega_{2})$ </center> </td>\n",
    "    <td> <center> $\\Phi(\\omega_{-3}) = -\\Delta\\Phi(\\omega_{-2}) + \\Phi(\\omega_{-2})$</center> </td>\n",
    "  </tr>\n",
    "      \n",
    "  <tr>\n",
    "    <td> <center> $\\vdots$ </center> </td>\n",
    "    <td> <center> $\\vdots$ </center> </td>\n",
    "  </tr>\n",
    "\n",
    "</table>\n",
    "\n",
    "It can be seen, that the exact spectral phase points can be calculated through this recursive cummulative sum. A discussion on why this way of calculating the spectral phase is recommended rather than a standard numerical integration of the GD, can be found in chapter 7B of <a  ref=\"https://opg.optica.org/josab/abstract.cfm?uri=josab-27-6-1165\">Birge *et. al.*</a>. (Furthermore, note that in this Notebook there is no need to use frequency-band filters such as anti-aliasing filters in contrast to real 2DSI measurements.)"
   ]
  },
  {
   "cell_type": "markdown",
   "metadata": {},
   "source": [
    "### Import of data and packages"
   ]
  },
  {
   "cell_type": "code",
   "execution_count": 1,
   "metadata": {},
   "outputs": [],
   "source": [
    "#Import of packages\n",
    "import pandas as pd\n",
    "import matplotlib.pyplot as plt\n",
    "import numpy as np\n",
    "import matplotlib as mpl\n",
    "import sys\n",
    "from scipy.interpolate import interp1d\n",
    "\n",
    "#Import of the dataframe\n",
    "df_GDOmega = pd.read_csv(\"Data/GDOmega.csv\", index_col = 0)\n",
    "\n",
    "#Create numpy arrays out of the imported data\n",
    "#Pulse\n",
    "f_2DSI = df_GDOmega.loc[:, 'f (Hz)'].to_numpy()\n",
    "GDOmega = df_GDOmega.loc[:, 'GDOmega (rad)'].to_numpy()           #frequency axis pulse\n",
    "\n",
    "f_shear = df_GDOmega.loc[:, 'shear (Hz)'].to_numpy() #shear of the 2DSI-map\n",
    "f_shear = f_shear[0]                                 #only one value is needed\n",
    "\n",
    "f_center_SFG = df_GDOmega.loc[:, 'f_c_SFG (Hz)'].to_numpy()\n",
    "f_center_SFG = f_center_SFG[0]"
   ]
  },
  {
   "cell_type": "markdown",
   "metadata": {},
   "source": [
    "### Preparation and interpolation onto the new frequency axis\n",
    "Creation of the discrete frequency axis containing the SFG center frequency:"
   ]
  },
  {
   "cell_type": "code",
   "execution_count": 2,
   "metadata": {},
   "outputs": [],
   "source": [
    "#Discrete frequency axis from the center frequency to the beginning of the f_2DSI frequency axis in steps of the shear\n",
    "f_discrete_1 = np.flip(np.arange(f_center_SFG, f_2DSI[0], -f_shear)) \n",
    "\n",
    "#Discrete frequency axis from the center freqency to the end of the f_2DSI frequency axis in steps of the shear \n",
    "f_discrete_2 = np.arange(f_center_SFG, f_2DSI[-1], f_shear) \n",
    "\n",
    "#Concatenation of the two sides:\n",
    "f_discrete = np.concatenate((f_discrete_1[0:-1], f_discrete_2))\n",
    "\n",
    "#Index of the center\n",
    "center_index = len(f_discrete_1) - 1"
   ]
  },
  {
   "cell_type": "code",
   "execution_count": 3,
   "metadata": {},
   "outputs": [],
   "source": [
    "#Interpolation of the 2DSI-map's result:\n",
    "interpol = interp1d(f_2DSI, GDOmega, 'zero')\n",
    "GDOmega_discrete = interpol(f_discrete)"
   ]
  },
  {
   "cell_type": "code",
   "execution_count": 4,
   "metadata": {},
   "outputs": [],
   "source": [
    "phase_discrete = np.zeros(np.shape(GDOmega_discrete)) #Creation of the empty vector\n",
    "        \n",
    "#Recursive cummulation for i>1 (starting from the center_index)\n",
    "for i in range(center_index + 1, len(GDOmega_discrete)):\n",
    "    phase_discrete[i] = GDOmega_discrete[i] + phase_discrete[i-1]\n",
    "\n",
    "#Recursive cummulation for i<1 (starting from the center_index)\n",
    "for i in range(center_index-1, -1, -1):\n",
    "    phase_discrete[i] = -GDOmega_discrete[i+1] + phase_discrete[i+1]"
   ]
  },
  {
   "cell_type": "markdown",
   "metadata": {},
   "source": [
    "### Plot of the result:"
   ]
  },
  {
   "cell_type": "code",
   "execution_count": 5,
   "metadata": {},
   "outputs": [
    {
     "data": {
      "image/png": "[encoded data removed]",
      "text/plain": [
       "<Figure size 576x432 with 1 Axes>"
      ]
     },
     "metadata": {
      "needs_background": "light"
     },
     "output_type": "display_data"
    }
   ],
   "source": [
    "figPhase = plt.figure(figsize = (8, 6))\n",
    "ax_phase = figPhase.add_subplot(111)\n",
    "#Intensity over frequency\n",
    "ax_phase.plot(f_discrete / 10**12, phase_discrete / np.pi, 'kx')                                     #Plot spectrum\n",
    "\n",
    "#Title and labels\n",
    "ax_phase.set_title(\"Reconstructed Phase\", fontsize = 15)\n",
    "ax_phase.set_xlabel(\"Frequency (THz)\", fontsize = 15)\n",
    "ax_phase.set_ylabel(\"Phase (unit of pi)\", fontsize = 15)\n",
    "ax_phase.tick_params(axis = 'both', which = 'major', labelsize = 15)\n",
    "\n",
    "\n",
    "#Figure Caption\n",
    "figurecounter = 1                                                            #Counter for the figure number\n",
    "figurecaption = ('Fig.' + str(figurecounter) + '. ' \\\n",
    "                 'The reconstructed spectral phase.')\n",
    "\n",
    "figPhase.text(.5, -0.05, figurecaption, ha = 'center', fontsize = 15)\n",
    "\n",
    "#Grids\n",
    "ax_phase.grid()                                                        #The grid of the phase-value ticks is wanted\n",
    "\n",
    "\n",
    "#Limits\n",
    "ax_phase.set_xlim((246, 278))\n",
    "ax_phase.set_ylim((-0.5, 8))\n",
    "plt.show()"
   ]
  },
  {
   "cell_type": "code",
   "execution_count": 6,
   "metadata": {},
   "outputs": [],
   "source": [
    "#Comparision with real results\n",
    "df_pulse = pd.read_csv(\"Data/pulse.csv\", index_col = 0)\n",
    "f = df_pulse.loc[:, 'f (Hz)'].to_numpy()           #frequency axis pulse\n",
    "i_f = df_pulse.loc[:, 'spec (norm.)'].to_numpy()   #spectrum (intensity) pulse\n",
    "phase = df_pulse.loc[:, 'phase (rad)'].to_numpy()  #phase of the pulse\n",
    "\n",
    "interpol = interp1d(f + f_center_SFG/2, phase, 'zero')\n",
    "phase_real = interpol(f_discrete)\n",
    "\n",
    "\n",
    "#Polynomial fit and elimination of the linear phase\n",
    "#Eliminate 0th and 1st order\n",
    "#phase_inter_u = interp1d(f_u,phase_u, fill_value = \"extrapolate\")\n",
    "\n",
    "#poly_coefficient = np.polyfit(self.f-(2*f_center), phase_inter_u(self.f), 10) #f-2*f_center shifts the x-axis origin to the centerfrequency\n",
    "#poly_coefficient[-1] = 0 #0th order\n",
    "#poly_coefficient[-2] = 0 #1st order\n",
    "\n",
    "#phase_u = np.poly1d(poly_coefficient)(f_u-(2*f_center)) #unit rad\n",
    "\n",
    "phase_inter_discrete = interp1d(f_discrete, phase_discrete, fill_value = \"extrapolate\")\n",
    "poly_coefficient = np.polyfit(f_2DSI - f_center_SFG, phase_inter_discrete(f_2DSI), 7)\n",
    "poly_coefficient[-1] = 0 #0th order\n",
    "poly_coefficient[-2] = 0 #1st order\n",
    "\n",
    "phase_discrete_poly = np.poly1d(poly_coefficient)(f_discrete - (f_center_SFG))"
   ]
  },
  {
   "cell_type": "markdown",
   "metadata": {},
   "source": [
    "## Creating a pandas data frame:¶"
   ]
  },
  {
   "cell_type": "code",
   "execution_count": 7,
   "metadata": {},
   "outputs": [],
   "source": [
    "#Dataframe for the pulse:\n",
    "data_Phase = {'f_discrete (Hz)': f_discrete, 'phase_discrete (rad)': phase_discrete}        #creation of a dictonary\n",
    "df_Phase = pd.DataFrame(data = data_Phase)\n",
    "\n",
    "#Save to csv-file in the Data folder\n",
    "df_Phase.to_csv('Data/Phase.csv')"
   ]
  }
 ],
 "metadata": {
  "kernelspec": {
   "display_name": "Python 3",
   "language": "python",
   "name": "python3"
  },
  "language_info": {
   "codemirror_mode": {
    "name": "ipython",
    "version": 3
   },
   "file_extension": ".py",
   "mimetype": "text/x-python",
   "name": "python",
   "nbconvert_exporter": "python",
   "pygments_lexer": "ipython3",
   "version": "3.8.5"
  }
 },
 "nbformat": 4,
 "nbformat_minor": 5
}
